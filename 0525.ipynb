{
  "nbformat": 4,
  "nbformat_minor": 0,
  "metadata": {
    "colab": {
      "name": "0525.ipynb",
      "provenance": [],
      "authorship_tag": "ABX9TyO73XUOZBE3cYizy8EZ4Ylz",
      "include_colab_link": true
    },
    "kernelspec": {
      "name": "python3",
      "display_name": "Python 3"
    },
    "language_info": {
      "name": "python"
    }
  },
  "cells": [
    {
      "cell_type": "markdown",
      "metadata": {
        "id": "view-in-github",
        "colab_type": "text"
      },
      "source": [
        "<a href=\"https://colab.research.google.com/github/hanhan0220/Introduction-to-Computers/blob/main/0525.ipynb\" target=\"_parent\"><img src=\"https://colab.research.google.com/assets/colab-badge.svg\" alt=\"Open In Colab\"/></a>"
      ]
    },
    {
      "cell_type": "code",
      "execution_count": null,
      "metadata": {
        "colab": {
          "base_uri": "https://localhost:8080/"
        },
        "id": "eY78mtkDGAru",
        "outputId": "a13c6f4f-e0b4-4e1d-932d-4bf3ae32b746"
      },
      "outputs": [
        {
          "output_type": "stream",
          "name": "stdout",
          "text": [
            "test\n"
          ]
        }
      ],
      "source": [
        "print(\"test\")"
      ]
    },
    {
      "cell_type": "code",
      "source": [
        "sum=0\n",
        "test=int(input('請輸入一個正整數:'))\n",
        "for n in range(1,test+1):\n",
        "  sum=sum+n\n",
        "print(\"1到\",test,\"的整數合為\",sum)"
      ],
      "metadata": {
        "colab": {
          "base_uri": "https://localhost:8080/"
        },
        "id": "r31Bf4TlGchc",
        "outputId": "0fbde8d0-624e-4d5b-bea1-5fdd15367043"
      },
      "execution_count": null,
      "outputs": [
        {
          "output_type": "stream",
          "name": "stdout",
          "text": [
            "請輸入一個正整數:50\n",
            "1到 50 的整數合為 1275\n"
          ]
        }
      ]
    },
    {
      "cell_type": "code",
      "source": [
        "sum=0\n",
        "test=int(input(\"請輸入一個正整數:\"))\n",
        "for m in range(1,test+1):\n",
        "  sum=sum+n\n",
        "  print(\"1到\",str(m)+\"的整數合為\",sum)"
      ],
      "metadata": {
        "colab": {
          "base_uri": "https://localhost:8080/"
        },
        "outputId": "cf6a4878-b167-42a0-d67e-a8f01fe56564",
        "id": "C96hQBoPKmNR"
      },
      "execution_count": null,
      "outputs": [
        {
          "output_type": "stream",
          "name": "stdout",
          "text": [
            "請輸入一個正整數:50\n",
            "1到 1的整數合為 50\n",
            "1到 2的整數合為 100\n",
            "1到 3的整數合為 150\n",
            "1到 4的整數合為 200\n",
            "1到 5的整數合為 250\n",
            "1到 6的整數合為 300\n",
            "1到 7的整數合為 350\n",
            "1到 8的整數合為 400\n",
            "1到 9的整數合為 450\n",
            "1到 10的整數合為 500\n",
            "1到 11的整數合為 550\n",
            "1到 12的整數合為 600\n",
            "1到 13的整數合為 650\n",
            "1到 14的整數合為 700\n",
            "1到 15的整數合為 750\n",
            "1到 16的整數合為 800\n",
            "1到 17的整數合為 850\n",
            "1到 18的整數合為 900\n",
            "1到 19的整數合為 950\n",
            "1到 20的整數合為 1000\n",
            "1到 21的整數合為 1050\n",
            "1到 22的整數合為 1100\n",
            "1到 23的整數合為 1150\n",
            "1到 24的整數合為 1200\n",
            "1到 25的整數合為 1250\n",
            "1到 26的整數合為 1300\n",
            "1到 27的整數合為 1350\n",
            "1到 28的整數合為 1400\n",
            "1到 29的整數合為 1450\n",
            "1到 30的整數合為 1500\n",
            "1到 31的整數合為 1550\n",
            "1到 32的整數合為 1600\n",
            "1到 33的整數合為 1650\n",
            "1到 34的整數合為 1700\n",
            "1到 35的整數合為 1750\n",
            "1到 36的整數合為 1800\n",
            "1到 37的整數合為 1850\n",
            "1到 38的整數合為 1900\n",
            "1到 39的整數合為 1950\n",
            "1到 40的整數合為 2000\n",
            "1到 41的整數合為 2050\n",
            "1到 42的整數合為 2100\n",
            "1到 43的整數合為 2150\n",
            "1到 44的整數合為 2200\n",
            "1到 45的整數合為 2250\n",
            "1到 46的整數合為 2300\n",
            "1到 47的整數合為 2350\n",
            "1到 48的整數合為 2400\n",
            "1到 49的整數合為 2450\n",
            "1到 50的整數合為 2500\n"
          ]
        }
      ]
    },
    {
      "cell_type": "code",
      "source": [
        "for j in range(1,5):\n",
        "  print(j)\n",
        "  for i in range(1,3):\n",
        "    k=i*j\n",
        "    print(j,\"*\",i,\"=\",k)"
      ],
      "metadata": {
        "colab": {
          "base_uri": "https://localhost:8080/"
        },
        "id": "cusdqtKqGctu",
        "outputId": "9e3f8cfa-5c91-481f-d056-3454fd47a119"
      },
      "execution_count": null,
      "outputs": [
        {
          "output_type": "stream",
          "name": "stdout",
          "text": [
            "1\n",
            "1 * 1 = 1\n",
            "1 * 2 = 2\n",
            "2\n",
            "2 * 1 = 2\n",
            "2 * 2 = 4\n",
            "3\n",
            "3 * 1 = 3\n",
            "3 * 2 = 6\n",
            "4\n",
            "4 * 1 = 4\n",
            "4 * 2 = 8\n"
          ]
        }
      ]
    },
    {
      "cell_type": "code",
      "source": [
        "for j in range(1,6):\n",
        "  print(j)\n",
        "  for i in range(1,3):\n",
        "    k=i*j\n",
        "    print(j,\"*\",i,\"=\",k)"
      ],
      "metadata": {
        "colab": {
          "base_uri": "https://localhost:8080/"
        },
        "outputId": "b83872d1-2d07-41e2-df87-38ecf56aaa60",
        "id": "2iCGmX2oPBOJ"
      },
      "execution_count": null,
      "outputs": [
        {
          "output_type": "stream",
          "name": "stdout",
          "text": [
            "1\n",
            "1 * 1 = 1\n",
            "1 * 2 = 2\n",
            "2\n",
            "2 * 1 = 2\n",
            "2 * 2 = 4\n",
            "3\n",
            "3 * 1 = 3\n",
            "3 * 2 = 6\n",
            "4\n",
            "4 * 1 = 4\n",
            "4 * 2 = 8\n",
            "5\n",
            "5 * 1 = 5\n",
            "5 * 2 = 10\n"
          ]
        }
      ]
    },
    {
      "cell_type": "code",
      "source": [
        "for i in range(1,5):\n",
        "  if(i==3):\n",
        "    break\n",
        "  print(i,end=\" \")"
      ],
      "metadata": {
        "colab": {
          "base_uri": "https://localhost:8080/"
        },
        "id": "1gvzzd6zGc16",
        "outputId": "f172b693-0a67-4938-db2b-b0b918f3f62b"
      },
      "execution_count": null,
      "outputs": [
        {
          "output_type": "stream",
          "name": "stdout",
          "text": [
            "1 2 "
          ]
        }
      ]
    },
    {
      "cell_type": "code",
      "source": [
        "count=0\n",
        "for string in 'hello!':\n",
        "   count+=1\n",
        "   if string =='o':\n",
        "     break\n",
        "   print(string)\n",
        "print(\"迴圈結束\")\n",
        "print(\"迴圈執行了%d次\"%count)"
      ],
      "metadata": {
        "colab": {
          "base_uri": "https://localhost:8080/"
        },
        "id": "wvZpYdMzGc7A",
        "outputId": "2bd09f98-2cba-4b6b-cbe8-d9544c38871e"
      },
      "execution_count": null,
      "outputs": [
        {
          "output_type": "stream",
          "name": "stdout",
          "text": [
            "h\n",
            "e\n",
            "l\n",
            "l\n",
            "迴圈結束\n",
            "迴圈執行了5次\n"
          ]
        }
      ]
    },
    {
      "cell_type": "code",
      "source": [
        "count = 0\n",
        "for string in '測試看看!':\n",
        "  count+=1\n",
        "  if string == '看':\n",
        "    break\n",
        "  print(string)\n",
        "print('迴圈結束')\n",
        "print('迴圈進行了 %d 次' %count)"
      ],
      "metadata": {
        "id": "zXBylySAm0De",
        "colab": {
          "base_uri": "https://localhost:8080/"
        },
        "outputId": "61ad2d28-38fe-48e5-d588-68756a273821"
      },
      "execution_count": 1,
      "outputs": [
        {
          "output_type": "stream",
          "name": "stdout",
          "text": [
            "測\n",
            "試\n",
            "迴圈結束\n",
            "迴圈進行了 3 次\n"
          ]
        }
      ]
    },
    {
      "cell_type": "code",
      "source": [
        "for i in range(2, 10):\n",
        "  for j in range(1, 10):\n",
        "    k = i * j\n",
        "    print(\"%d*%d= %2d \" %(i,j,k), end=\"\")\n",
        "  print()"
      ],
      "metadata": {
        "id": "i83jz-3tm0GF",
        "colab": {
          "base_uri": "https://localhost:8080/"
        },
        "outputId": "ef0fc47e-11d1-4980-e382-59323457fa35"
      },
      "execution_count": 2,
      "outputs": [
        {
          "output_type": "stream",
          "name": "stdout",
          "text": [
            "2*1=  2 2*2=  4 2*3=  6 2*4=  8 2*5= 10 2*6= 12 2*7= 14 2*8= 16 2*9= 18 \n",
            "3*1=  3 3*2=  6 3*3=  9 3*4= 12 3*5= 15 3*6= 18 3*7= 21 3*8= 24 3*9= 27 \n",
            "4*1=  4 4*2=  8 4*3= 12 4*4= 16 4*5= 20 4*6= 24 4*7= 28 4*8= 32 4*9= 36 \n",
            "5*1=  5 5*2= 10 5*3= 15 5*4= 20 5*5= 25 5*6= 30 5*7= 35 5*8= 40 5*9= 45 \n",
            "6*1=  6 6*2= 12 6*3= 18 6*4= 24 6*5= 30 6*6= 36 6*7= 42 6*8= 48 6*9= 54 \n",
            "7*1=  7 7*2= 14 7*3= 21 7*4= 28 7*5= 35 7*6= 42 7*7= 49 7*8= 56 7*9= 63 \n",
            "8*1=  8 8*2= 16 8*3= 24 8*4= 32 8*5= 40 8*6= 48 8*7= 56 8*8= 64 8*9= 72 \n",
            "9*1=  9 9*2= 18 9*3= 27 9*4= 36 9*5= 45 9*6= 54 9*7= 63 9*8= 72 9*9= 81 \n"
          ]
        }
      ]
    },
    {
      "cell_type": "code",
      "source": [
        "x = int(input(\"請輸入 a 的值:\"))\n",
        "y = int(input(\"請輸入 b 的值:\"))\n",
        "if x > y :\n",
        "    c = x\n",
        "else:\n",
        "    c = y\n",
        "m = (x + 1) * (y + 1)\n",
        "for k in range(c, m):\n",
        "    if k % x == 0 and k % y == 0:\n",
        "        print(x,'和',y,'的最小公倍數=',k)\n",
        "        break"
      ],
      "metadata": {
        "id": "IbOrfLJVm0LZ",
        "colab": {
          "base_uri": "https://localhost:8080/"
        },
        "outputId": "ed6dfe4f-5b86-4724-be12-86ec4b016f44"
      },
      "execution_count": 3,
      "outputs": [
        {
          "output_type": "stream",
          "name": "stdout",
          "text": [
            "請輸入 a 的值:4\n",
            "請輸入 b 的值:6\n",
            "4 和 6 的最小公倍數= 12\n"
          ]
        }
      ]
    },
    {
      "cell_type": "code",
      "source": [
        "x = int(input(\"請輸入 a 的值:\"))\n",
        "y = int(input(\"請輸入 b 的值:\"))\n",
        "if x > y :\n",
        "    c = x\n",
        "else:\n",
        "    c = y\n",
        "m = (x + 1) * (y + 1)\n",
        "for k in range(c, m):\n",
        "    if k % x == 0 and k % y == 0:\n",
        "        print(x,'和',y,'的最小公倍數=',k)\n",
        "        break"
      ],
      "metadata": {
        "colab": {
          "base_uri": "https://localhost:8080/"
        },
        "id": "Usjx_JQTHbS8",
        "outputId": "1a9df05d-aaf0-4d9d-d94f-4d2bcc287cef"
      },
      "execution_count": 4,
      "outputs": [
        {
          "output_type": "stream",
          "name": "stdout",
          "text": [
            "請輸入 a 的值:9\n",
            "請輸入 b 的值:15\n",
            "9 和 15 的最小公倍數= 45\n"
          ]
        }
      ]
    },
    {
      "cell_type": "code",
      "source": [
        "n = int(input('請輸入正整數:'))\n",
        "for i in range(1,n+1):\n",
        "  if i % 5 == 0:\n",
        "    continue\n",
        "  print(i,'',end='')"
      ],
      "metadata": {
        "colab": {
          "base_uri": "https://localhost:8080/"
        },
        "id": "TE0OifgNHbWA",
        "outputId": "bf83bd7d-c62b-4981-bdf3-f458feddc2f8"
      },
      "execution_count": 5,
      "outputs": [
        {
          "output_type": "stream",
          "name": "stdout",
          "text": [
            "請輸入正整數:12\n",
            "1 2 3 4 6 7 8 9 11 12 "
          ]
        }
      ]
    },
    {
      "cell_type": "code",
      "source": [
        "n = int(input('請輸入正整數:'))\n",
        "for i in range(1,n+1):\n",
        "  if i % 5 == 0:\n",
        "    continue\n",
        "  print(i,'',end='')"
      ],
      "metadata": {
        "colab": {
          "base_uri": "https://localhost:8080/"
        },
        "id": "3TNeHxJHHbZK",
        "outputId": "2da35bad-8708-4629-9a84-725c136b5d5f"
      },
      "execution_count": 6,
      "outputs": [
        {
          "output_type": "stream",
          "name": "stdout",
          "text": [
            "請輸入正整數:21\n",
            "1 2 3 4 6 7 8 9 11 12 13 14 16 17 18 19 21 "
          ]
        }
      ]
    }
  ]
}