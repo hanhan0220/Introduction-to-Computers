{
  "nbformat": 4,
  "nbformat_minor": 0,
  "metadata": {
    "colab": {
      "name": "0511.ipynb",
      "provenance": [],
      "authorship_tag": "ABX9TyMO5WiID88ixIQtR35kBI5N",
      "include_colab_link": true
    },
    "kernelspec": {
      "name": "python3",
      "display_name": "Python 3"
    },
    "language_info": {
      "name": "python"
    }
  },
  "cells": [
    {
      "cell_type": "markdown",
      "metadata": {
        "id": "view-in-github",
        "colab_type": "text"
      },
      "source": [
        "<a href=\"https://colab.research.google.com/github/hanhan0220/Introduction-to-Computers/blob/main/0511.ipynb\" target=\"_parent\"><img src=\"https://colab.research.google.com/assets/colab-badge.svg\" alt=\"Open In Colab\"/></a>"
      ]
    },
    {
      "cell_type": "code",
      "execution_count": 1,
      "metadata": {
        "colab": {
          "base_uri": "https://localhost:8080/"
        },
        "id": "aKOw03RMKSsS",
        "outputId": "a3639337-609a-4284-cd7f-35d304e9e3b9"
      },
      "outputs": [
        {
          "output_type": "stream",
          "name": "stdout",
          "text": [
            "test\n"
          ]
        }
      ],
      "source": [
        "print('test')"
      ]
    },
    {
      "cell_type": "code",
      "source": [
        "temp=float(input('請輸入你的體溫:'))\n",
        "if(temp>=37.5):\n",
        " print('體溫過高!')\n",
        "elif(temp>=34 and temp<36.9):\n",
        "   print('體溫略高!')\n",
        "elif(temp>=34 and temp<36.9):\n",
        "  print('體溫正常!')  \n",
        "else:\n",
        "  print('體溫異常<請重新量測!')\n",
        "  "
      ],
      "metadata": {
        "colab": {
          "base_uri": "https://localhost:8080/"
        },
        "id": "O0NHFcARKcjW",
        "outputId": "884dbc09-50e9-4b94-c062-9768aa6943d6"
      },
      "execution_count": 3,
      "outputs": [
        {
          "output_type": "stream",
          "name": "stdout",
          "text": [
            "請輸入你的體溫:37.5\n",
            "體溫過高!\n"
          ]
        }
      ]
    },
    {
      "cell_type": "code",
      "source": [
        "money=int(input('請輸入購物金額:'))\n",
        "if(money>=10000):\n",
        "  if(money>=100000):\n",
        "    print('八折',money * 0.8,end='元\\n')\n",
        "  elif(money>=50000):\n",
        "     print('八五折',money * 0.85,end='元\\n')\n",
        "  elif(money>=30000):\n",
        "    print('九折',money * 0.95,end='元\\n')\n",
        "  else:\n",
        "    print('九五折',money * 0.95,end='元\\n')\n",
        "else:\n",
        "  print('沒打折',money,end='元\\n')"
      ],
      "metadata": {
        "colab": {
          "base_uri": "https://localhost:8080/"
        },
        "id": "zJ_KDiNmK88M",
        "outputId": "cbd5d85b-86c0-429f-c0d6-3c91e7ea6a2b"
      },
      "execution_count": 6,
      "outputs": [
        {
          "output_type": "stream",
          "name": "stdout",
          "text": [
            "請輸入購物金額:50000\n",
            "八五折 42500.0元\n"
          ]
        }
      ]
    },
    {
      "cell_type": "code",
      "source": [
        "month=int(input('請使用者輸入月份:'))\n",
        "if(month>=1 and month<=12):\n",
        " if(month>=3 and month<=5):\n",
        "   print(month,'月是春天!')\n",
        " elif(month>=6 and month<=8):\n",
        "   print(month,'月是夏天!')\n",
        " elif(month>=9 and month<=11):\n",
        "    print(month,'月是秋天!')\n",
        " else:\n",
        "    print(month,'月是冬天!')\n",
        "else:\n",
        "  print('月份不再範圍內!')\n"
      ],
      "metadata": {
        "colab": {
          "base_uri": "https://localhost:8080/"
        },
        "id": "yTYkYzC6K5Nu",
        "outputId": "b4f21ac7-2047-4ee1-9a65-815647dd98ab"
      },
      "execution_count": 8,
      "outputs": [
        {
          "output_type": "stream",
          "name": "stdout",
          "text": [
            "請使用者輸入月份:12\n",
            "12 月是冬天!\n"
          ]
        }
      ]
    },
    {
      "cell_type": "code",
      "source": [
        "income=int(input('請輸入今年收入淨額:'))\n",
        "if(income>=300000):\n",
        " if(income>=2000000):\n",
        "   print('付款金額:',income * 0.3,end='元\\n')\n",
        " elif(income>=1000000):\n",
        "   print('付款金額:',income * 0.21,end='元\\n')\n",
        " elif(income>=600000):\n",
        "   print('付款金額:',income * 0.13,end='元\\n')\n",
        " else:\n",
        "   print('付款金額:',income * 0.06,end='元\\n')\n",
        "else:\n",
        "  print('付款金額為0',end='元\\n')"
      ],
      "metadata": {
        "colab": {
          "base_uri": "https://localhost:8080/"
        },
        "id": "596AScTtKczd",
        "outputId": "d38d8349-9e88-4d99-d03a-ad1c82caf333"
      },
      "execution_count": 12,
      "outputs": [
        {
          "output_type": "stream",
          "name": "stdout",
          "text": [
            "請輸入今年收入淨額:100000\n",
            "付款金額為0元\n"
          ]
        }
      ]
    },
    {
      "cell_type": "code",
      "source": [
        "income=int(input('請輸入今年收入淨額:'))\n",
        "if(income>=300000):\n",
        " if(income>=2000000):\n",
        "   print('付款金額:',income * 0.3,end='元\\n')\n",
        " elif(income>=1000000):\n",
        "   print('付款金額:',income * 0.21,end='元\\n')\n",
        " elif(income>=600000):\n",
        "   print('付款金額:',income * 0.13,end='元\\n')\n",
        " else:\n",
        "   print('付款金額:',income * 0.06,end='元\\n')\n",
        "else:\n",
        "  print('付款金額為0',end='元\\n')"
      ],
      "metadata": {
        "colab": {
          "base_uri": "https://localhost:8080/"
        },
        "outputId": "e75bcfa3-7a68-4981-c6db-73a62ae6616c",
        "id": "pVtxbGi_Umfe"
      },
      "execution_count": 13,
      "outputs": [
        {
          "output_type": "stream",
          "name": "stdout",
          "text": [
            "請輸入今年收入淨額:2000000\n",
            "付款金額: 600000.0元\n"
          ]
        }
      ]
    },
    {
      "cell_type": "code",
      "source": [
        "grade=int(input('請輸入成績:'))\n",
        "if(grade>=90):\n",
        "  print('A')\n",
        "elif(grade>=80 and grade<=89):\n",
        "  print('B')\n",
        "elif(grade>=70 and grade<=79):\n",
        "  print('C')\n",
        "elif(grade>=60 and grade>=69):\n",
        " print('D')\n",
        "else:\n",
        "  print('E')   "
      ],
      "metadata": {
        "colab": {
          "base_uri": "https://localhost:8080/"
        },
        "id": "G7LuW-yzUcSV",
        "outputId": "a6af0aee-4c63-4772-a7e1-4130dbb4cbf4"
      },
      "execution_count": 14,
      "outputs": [
        {
          "output_type": "stream",
          "name": "stdout",
          "text": [
            "請輸入成績:90\n",
            "A\n"
          ]
        }
      ]
    },
    {
      "cell_type": "code",
      "source": [
        "grade=int(input('請輸入成績:'))\n",
        "if(grade>=90):\n",
        "  print('A')\n",
        "elif(grade>=80 and grade<=89):\n",
        "  print('B')\n",
        "elif(grade>=70 and grade<=79):\n",
        "  print('C')\n",
        "elif(grade>=60 and grade>=69):\n",
        " print('D')\n",
        "else:\n",
        "  print('E')   "
      ],
      "metadata": {
        "colab": {
          "base_uri": "https://localhost:8080/"
        },
        "outputId": "797ed9d3-6e33-4282-de89-feb623b0e0d1",
        "id": "faBoc8X_WDR0"
      },
      "execution_count": 15,
      "outputs": [
        {
          "output_type": "stream",
          "name": "stdout",
          "text": [
            "請輸入成績:80\n",
            "B\n"
          ]
        }
      ]
    },
    {
      "cell_type": "code",
      "source": [
        "grade=int(input('請輸入成績:'))\n",
        "if(grade>=90):\n",
        "  print('A')\n",
        "elif(grade>=80 and grade<=89):\n",
        "  print('B')\n",
        "elif(grade>=70 and grade<=79):\n",
        "  print('C')\n",
        "elif(grade>=60 and grade>=69):\n",
        " print('D')\n",
        "else:\n",
        "  print('E')   "
      ],
      "metadata": {
        "colab": {
          "base_uri": "https://localhost:8080/"
        },
        "outputId": "e3d7b57a-850a-4a5a-f739-2f080cc82ac9",
        "id": "dGIwhwI9WDgd"
      },
      "execution_count": 16,
      "outputs": [
        {
          "output_type": "stream",
          "name": "stdout",
          "text": [
            "請輸入成績:50\n",
            "E\n"
          ]
        }
      ]
    }
  ]
}